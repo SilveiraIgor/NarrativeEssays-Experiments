{
 "cells": [
  {
   "cell_type": "code",
   "execution_count": 38,
   "id": "61cf4928-518b-4864-ac8f-28982752853a",
   "metadata": {
    "tags": []
   },
   "outputs": [],
   "source": [
    "import pandas as pd\n",
    "import torch\n",
    "from transformers import AutoModelForSequenceClassification, AutoTokenizer\n",
    "from coral_pytorch.dataset import corn_label_from_logits\n",
    "from coral_pytorch.losses import corn_loss, CornLoss\n",
    "from datasets import Dataset"
   ]
  },
  {
   "cell_type": "code",
   "execution_count": 40,
   "id": "20adf9a0-19be-4c33-8237-6397cbcea4ad",
   "metadata": {
    "tags": []
   },
   "outputs": [],
   "source": [
    "test = pd.read_csv(\"dataset//testNarrativo.csv\")\n",
    "validation = pd.read_csv(\"dataset//validationNarrativo.csv\")\n",
    "train = pd.read_csv(\"dataset//trainNarrativo.csv\")"
   ]
  },
  {
   "cell_type": "code",
   "execution_count": 42,
   "id": "edb50910-21c8-4456-9d57-3b1a4b3d7716",
   "metadata": {
    "tags": []
   },
   "outputs": [
    {
     "data": {
      "text/plain": [
       "[0, 10, 54, 249, 53, 4]"
      ]
     },
     "execution_count": 42,
     "metadata": {},
     "output_type": "execute_result"
    }
   ],
   "source": [
    "def medir_distribuicao(notas):\n",
    "    distribuicao = [0]*6\n",
    "    for n in notas:\n",
    "        distribuicao[n] += 1 \n",
    "    return distribuicao\n",
    "\n",
    "medir_distribuicao(test['formal_register'])"
   ]
  },
  {
   "cell_type": "markdown",
   "id": "a85b0ab2-c166-41f3-b6b3-480a4c5062df",
   "metadata": {},
   "source": [
    "## Treinando o modelo"
   ]
  },
  {
   "cell_type": "code",
   "execution_count": 44,
   "id": "67cc5ddb-fe7b-4c48-b7af-e559d5295d19",
   "metadata": {
    "tags": []
   },
   "outputs": [
    {
     "name": "stderr",
     "output_type": "stream",
     "text": [
      "C:\\Users\\Igor\\Anaconda3\\lib\\site-packages\\transformers\\tokenization_utils_base.py:1601: FutureWarning: `clean_up_tokenization_spaces` was not set. It will be set to `True` by default. This behavior will be depracted in transformers v4.45, and will be then set to `False` by default. For more details check this issue: https://github.com/huggingface/transformers/issues/31884\n",
      "  warnings.warn(\n"
     ]
    }
   ],
   "source": [
    "TOKENIZER_NAME = f\"neuralmind/bert-base-portuguese-cased\"\n",
    "tokenizer = AutoTokenizer.from_pretrained(TOKENIZER_NAME, use_fast=True)\n",
    "def get_model_instance(model_path, objective):\n",
    "    model = None\n",
    "    if objective == \"regression\":\n",
    "        model = AutoModelForSequenceClassification.from_pretrained(\n",
    "                model_path, \n",
    "                cache_dir=\"/tmp/\", \n",
    "                num_labels=1,\n",
    "            )\n",
    "    elif objective == \"classification\" or objective == \"ordinal\":\n",
    "        model = AutoModelForSequenceClassification.from_pretrained(\n",
    "                model_path, \n",
    "                cache_dir=\"/tmp/aes_enem2\", \n",
    "                num_labels=6,\n",
    "            )\n",
    "    return model"
   ]
  },
  {
   "cell_type": "code",
   "execution_count": null,
   "id": "e10dbb9a-06e3-436c-9c87-f3995b245d1e",
   "metadata": {},
   "outputs": [],
   "source": [
    "from sklearn.metrics import cohen_kappa_score, f1_score\n",
    "\n",
    "def calcular_metricas(y, y_hat):\n",
    "    assert len(y) == len(y_hat)\n",
    "    QWK = cohen_kappa_score(y, y_hat, labels=[0, 1, 2, 3, 4, 5], weights='quadratic')\n",
    "    LWK = cohen_kappa_score(y, y_hat, labels=[0, 1, 2, 3, 4, 5], weights='linear')\n",
    "    Kappa = cohen_kappa_score(y, y_hat, labels=[0, 1, 2, 3, 4, 5])\n",
    "    F1 = f1_score(y, y_hat, average='weighted')\n",
    "    print(f'Kappa: {Kappa}')\n",
    "    print(f\"F1: {F1}\")\n",
    "    return Kappa + F1\n",
    "\n",
    "def arredondar_notas(notas):\n",
    "    novas_notas = []\n",
    "    for n in notas:\n",
    "        novas_notas.append( int(round(n)) )\n",
    "    return novas_notas\n",
    "\n",
    "def arrumar_notas(notas, OBJECTIVE):\n",
    "    novas_notas = []\n",
    "    if OBJECTIVE == 'regression' or OBJECTIVE == 'ordinal':\n",
    "        for n in notas:\n",
    "            arredondada = int(round(n))\n",
    "            if arredondada > 5:\n",
    "                arredondada = 5\n",
    "            if arredondada < 0:\n",
    "                arredondada = 0\n",
    "            novas_notas.append(arredondada)\n",
    "    elif OBJECTIVE == 'classification':\n",
    "        for n in notas:\n",
    "            maior = max(n)\n",
    "            novas_notas.append( n.index(maior) )\n",
    "    else:\n",
    "        print(notas)\n",
    "    return novas_notas"
   ]
  },
  {
   "cell_type": "code",
   "execution_count": 49,
   "id": "3eb8c0c8-8534-4fd9-9dba-8a9ae640de2b",
   "metadata": {
    "tags": []
   },
   "outputs": [],
   "source": [
    "pairs = {'C1': 'formal_register', 'C2': 'thematic_coherence', 'C3': 'narrative_rhetorical_structure', 'C4': 'cohesion'}\n",
    "OBJECTIVES = ['ordinal', 'classification', 'regression']"
   ]
  },
  {
   "cell_type": "code",
   "execution_count": 5,
   "id": "a9ed9a11-da9c-4ca5-974a-2b5feecff0c3",
   "metadata": {
    "tags": []
   },
   "outputs": [
    {
     "data": {
      "text/plain": [
       "'teste   '"
      ]
     },
     "execution_count": 5,
     "metadata": {},
     "output_type": "execute_result"
    }
   ],
   "source": [
    "def retirar_marcações(texto):\n",
    "    lista_marcações = [\"[P]\", \"[ P]\", \"[P}\", \"[p]\", \"{p}\",\"[S]\", \"[s]\", \"[T]\", \"[t]\", \"{t}\", \"[R]\", \"[X]\", \"[X~]\", \"[r]\", \"[x]\",\"{x}\", \"[?]\", \"{?}\", \"[?}\", \"{?]\", \"[LC]\", \"[LT]\", \"[lt]\"]\n",
    "    for lm in lista_marcações:\n",
    "        texto = texto.replace(lm, \"\")\n",
    "    return texto\n",
    "\n",
    "retirar_marcações(\"[X~]teste [P}  \")"
   ]
  },
  {
   "cell_type": "code",
   "execution_count": 50,
   "id": "378d6c51-63f0-4689-bab0-0cd87d4a334b",
   "metadata": {
    "tags": []
   },
   "outputs": [
    {
     "name": "stderr",
     "output_type": "stream",
     "text": [
      "Some weights of BertForSequenceClassification were not initialized from the model checkpoint at neuralmind/bert-base-portuguese-cased and are newly initialized: ['classifier.bias', 'classifier.weight']\n",
      "You should probably TRAIN this model on a down-stream task to be able to use it for predictions and inference.\n"
     ]
    }
   ],
   "source": [
    "OBJECTIVE = 'ordinal'\n",
    "enem='C1'\n",
    "model = get_model_instance(f\"neuralmind/bert-base-portuguese-cased\", OBJECTIVE)"
   ]
  },
  {
   "cell_type": "code",
   "execution_count": 52,
   "id": "582cef00-f602-4d0a-9cd7-e1df3a4c635f",
   "metadata": {
    "tags": []
   },
   "outputs": [
    {
     "name": "stdout",
     "output_type": "stream",
     "text": [
      "C1: formal_register\n"
     ]
    }
   ],
   "source": [
    "print(f\"{enem}: {pairs[enem]}\")"
   ]
  },
  {
   "cell_type": "code",
   "execution_count": null,
   "id": "a5a6af72-67c1-4b5f-9108-dd25fccef62d",
   "metadata": {
    "tags": []
   },
   "outputs": [],
   "source": [
    "from transformers import TrainingArguments\n",
    "from transformers import Trainer\n",
    "import torch.nn as nn\n",
    "import torch\n",
    "from sklearn.metrics import accuracy_score, cohen_kappa_score, mean_squared_error, f1_score\n",
    "\n",
    "\n",
    "def tokenize_function(example):\n",
    "    return tokenizer(example[\"essay\"], max_length=256, padding=True, truncation=True, return_tensors='pt')\n",
    "\n",
    "def testar(model, dataset, OBJECTIVE):\n",
    "    y = []\n",
    "    y_hat = []\n",
    "    for index, instancia in dataset.iterrows():\n",
    "        essay = retirar_marcações(instancia['essay'])\n",
    "        tokenizado = tokenizer(essay, padding=True, truncation=True, max_length=256,return_tensors=\"pt\")\n",
    "        with torch.no_grad():\n",
    "            r = model(**tokenizado)['logits'].squeeze()\n",
    "        y.append(instancia[pairs[enem]])\n",
    "        if OBJECTIVE == 'regression':\n",
    "            y_hat.append(r.item())\n",
    "        elif OBJECTIVE == 'classification':\n",
    "            y_hat.append(r.tolist())\n",
    "        elif OBJECTIVE == 'ordinal':\n",
    "            y_hat.append(corn_label_from_logits(r.unsqueeze(dim=0)).item())\n",
    "        else:\n",
    "            return -100\n",
    "    y_hat = arrumar_notas(y_hat, OBJECTIVE)\n",
    "    soma = calcular_metricas(y, y_hat)\n",
    "    print(f\"Respostas: {y[:5]}\")\n",
    "    print(f\"Depois do arrumar: {y_hat[:5]}\")\n",
    "    return soma\n",
    "\n",
    "def treinar(model, treino, validacao, teste, OBJECTIVE, nome):\n",
    "    performance_anterior = -1 \n",
    "    chances = 3\n",
    "    iteracao = 1\n",
    "    optimizer = torch.optim.SGD(model.parameters(), lr=0.00001, momentum=0.9)\n",
    "    optimizer.zero_grad()\n",
    "    if OBJECTIVE == 'regression':\n",
    "        loss_fn = nn.MSELoss()\n",
    "        tensor_type = torch.float\n",
    "    elif OBJECTIVE == 'classification':\n",
    "        loss_fn = nn.CrossEntropyLoss()\n",
    "        tensor_type = torch.long\n",
    "    elif OBJECTIVE == 'ordinal':\n",
    "        loss_fn = CornLoss(num_classes=6)\n",
    "        tensor_type = torch.long\n",
    "    else:\n",
    "        return 0\n",
    "    while chances > 0:\n",
    "        print(f\"Iteração {iteracao}\")\n",
    "        iteracao += 1\n",
    "        loss_total = []\n",
    "        for index, instancia in treino.iterrows():\n",
    "            essay = retirar_marcações(instancia['essay'])\n",
    "            labels = torch.tensor(instancia[pairs[enem]], dtype=tensor_type)\n",
    "            tokenizado = tokenizer(essay, padding=True, truncation=True, max_length=256,return_tensors=\"pt\")\n",
    "            r = model(**tokenizado)['logits'].squeeze()\n",
    "            loss = loss_fn(r, labels)\n",
    "            loss.backward()\n",
    "            optimizer.step()\n",
    "            loss_total.append(loss.item())\n",
    "            optimizer.zero_grad()\n",
    "        print(f\"Loss média do treinamento: {sum(loss_total)/len(loss_total)}\")\n",
    "        print(\"-- Validação:\")\n",
    "        performance = testar(model, validacao, OBJECTIVE)\n",
    "        if performance > performance_anterior:\n",
    "            print(\"Performance melhor, vou salvar o modelo <<\")\n",
    "            print(f\"Foi de {performance_anterior} para {performance}\")\n",
    "            torch.save(model.state_dict(), nome)\n",
    "            performance_anterior = performance\n",
    "            chances = 3\n",
    "        elif performance == performance_anterior:\n",
    "            chances = 3\n",
    "        else:\n",
    "            chances = chances-1\n",
    "            print(f\"Performance pior, só tem mais {chances} chances\")\n",
    "            if chances == 0:\n",
    "                print(\"Acabou o treinamento\")\n",
    "                break\n",
    "        print(\"-- Teste:\")\n",
    "        testar(model, teste, OBJECTIVE)"
   ]
  },
  {
   "cell_type": "code",
   "execution_count": null,
   "id": "4c7c82f9-77da-4b11-9e82-7294a60143c4",
   "metadata": {
    "tags": []
   },
   "outputs": [
    {
     "name": "stdout",
     "output_type": "stream",
     "text": [
      "Iteração 1\n",
      "Loss média do treinamento: 0.5551151847114434\n",
      "-- Validação:\n",
      "Kappa: 0.0014735535908174668\n",
      "F1: 0.06135384615384616\n",
      "Respostas: [3, 3, 3, 3, 4]\n",
      "Depois do arrumar: [2, 2, 2, 2, 2]\n",
      "Performance melhor, vou salvar o modelo <<\n",
      "Foi de -1 para 0.06282739974466363\n",
      "-- Teste:\n",
      "Kappa: 0.005613199523728407\n",
      "F1: 0.03998678384986454\n",
      "Respostas: [4, 4, 3, 4, 3]\n",
      "Depois do arrumar: [2, 2, 1, 2, 2]\n",
      "Iteração 2\n",
      "Loss média do treinamento: 0.39921598402229513\n",
      "-- Validação:\n",
      "Kappa: 0.29824561403508776\n",
      "F1: 0.5718327699697562\n",
      "Respostas: [3, 3, 3, 3, 4]\n",
      "Depois do arrumar: [2, 2, 3, 3, 3]\n",
      "Performance melhor, vou salvar o modelo <<\n",
      "Foi de 0.06282739974466363 para 0.8700783840048439\n",
      "-- Teste:\n",
      "Kappa: 0.16230090825325783\n",
      "F1: 0.5100277847941399\n",
      "Respostas: [4, 4, 3, 4, 3]\n",
      "Depois do arrumar: [3, 3, 2, 2, 3]\n",
      "Iteração 3\n",
      "Loss média do treinamento: 0.34050727696032135\n",
      "-- Validação:\n",
      "Kappa: 0.0\n",
      "F1: 0.4894901960784313\n",
      "Respostas: [3, 3, 3, 3, 4]\n",
      "Depois do arrumar: [3, 3, 3, 3, 3]\n",
      "Performance pior, só tem mais 2 chances\n",
      "-- Teste:\n",
      "Kappa: 0.021056112887222866\n",
      "F1: 0.5521161626424784\n",
      "Respostas: [4, 4, 3, 4, 3]\n",
      "Depois do arrumar: [3, 3, 3, 3, 3]\n",
      "Iteração 4\n",
      "Loss média do treinamento: 0.3156225258434141\n",
      "-- Validação:\n",
      "Kappa: 0.0\n",
      "F1: 0.4894901960784313\n",
      "Respostas: [3, 3, 3, 3, 4]\n",
      "Depois do arrumar: [3, 3, 3, 3, 3]\n",
      "Performance pior, só tem mais 1 chances\n",
      "-- Teste:\n",
      "Kappa: -0.003891915934615797\n",
      "F1: 0.5401207032274993\n",
      "Respostas: [4, 4, 3, 4, 3]\n",
      "Depois do arrumar: [3, 3, 3, 3, 3]\n",
      "Iteração 5\n",
      "Loss média do treinamento: 0.30251049292651383\n",
      "-- Validação:\n",
      "Kappa: 0.0\n",
      "F1: 0.4894901960784313\n",
      "Respostas: [3, 3, 3, 3, 4]\n",
      "Depois do arrumar: [3, 3, 3, 3, 3]\n",
      "Performance pior, só tem mais 0 chances\n",
      "Acabou o treinamento\n"
     ]
    }
   ],
   "source": [
    "treinar(model, train, validation, test, OBJECTIVE, f\"modelo-{OBJECTIVE}-{pairs[enem]}.pt\")"
   ]
  },
  {
   "cell_type": "markdown",
   "id": "c4335339-8d9e-4248-b01d-ae8e0b41b1e4",
   "metadata": {
    "tags": []
   },
   "source": [
    "## Para salvar os modelos de modo a por no HuggingFace"
   ]
  },
  {
   "cell_type": "code",
   "execution_count": 87,
   "id": "afd9f3cc-a9e6-4907-9335-736716d0699d",
   "metadata": {
    "tags": []
   },
   "outputs": [],
   "source": [
    "pairs = {'C1': 'formal_register', 'C2': 'thematic_coherence', 'C3': 'narrative_rhetorical_structure', 'C4': 'cohesion'}\n",
    "OBJECTIVES = ['ordinal', 'classification', 'regression']"
   ]
  },
  {
   "cell_type": "code",
   "execution_count": 101,
   "id": "61d0e237-dacb-432d-94e9-4182e30a818a",
   "metadata": {
    "tags": []
   },
   "outputs": [
    {
     "data": {
      "text/plain": [
       "<All keys matched successfully>"
      ]
     },
     "execution_count": 101,
     "metadata": {},
     "output_type": "execute_result"
    }
   ],
   "source": [
    "OBJECTIVE = 'ordinal'\n",
    "enem = 'C4'\n",
    "ModeloTeste = get_model_instance(f\"kamel-usp/aes_enem_models-sourceA-{OBJECTIVE}-from-bertimbau-base-{enem}\", OBJECTIVE)\n",
    "ModeloTeste.load_state_dict(torch.load(f\"modelo-{OBJECTIVE}-{pairs[enem]}.pt\"))\n",
    "ModeloTeste.save_pretrained(f\"Tensores-{enem}-{OBJECTIVE}\")"
   ]
  },
  {
   "cell_type": "code",
   "execution_count": 55,
   "id": "64062551-3859-4c28-9e99-dc99f46c0c99",
   "metadata": {},
   "outputs": [
    {
     "name": "stdout",
     "output_type": "stream",
     "text": [
      "----- C1: formal_register - classification\n",
      "Kappa: 0.3195681069172084\n",
      "F1: 0.6658291185922766\n",
      "Respostas: [4, 4, 3, 4, 3]\n",
      "Depois do arrumar: [3, 4, 3, 3, 3]\n",
      "   Performance:  0.9853972255094849\n",
      "----- C2: thematic_coherence - classification\n",
      "Kappa: 0.4772701378603168\n",
      "F1: 0.6035778359217905\n",
      "Respostas: [3, 3, 1, 4, 4]\n",
      "Depois do arrumar: [2, 3, 1, 2, 1]\n",
      "   Performance:  1.0808479737821073\n",
      "----- C3: narrative_rhetorical_structure - classification\n",
      "Kappa: 0.2791010285610718\n",
      "F1: 0.6231348381348382\n",
      "Respostas: [4, 5, 5, 4, 4]\n",
      "Depois do arrumar: [4, 5, 4, 4, 4]\n",
      "   Performance:  0.9022358666959099\n",
      "----- C4: cohesion - classification\n",
      "Kappa: 0.34546373515289375\n",
      "F1: 0.6778667953667953\n",
      "Respostas: [4, 5, 3, 3, 4]\n",
      "Depois do arrumar: [3, 3, 3, 3, 3]\n",
      "   Performance:  1.0233305305196891\n"
     ]
    }
   ],
   "source": [
    "#Testa o modelo para ter certeza\n",
    "for i in range(1,5):\n",
    "    enem=f'C{i}'\n",
    "    modelo3 = get_model_instance(f\"kamel-usp/aes_enem_models-sourceA-{OBJECTIVE}-from-bertimbau-base-{enem}\", OBJECTIVE)\n",
    "    modelo3.load_state_dict(torch.load(f\"modelo-{OBJECTIVE}-{pairs[enem]}.pt\"))\n",
    "    print(f\"----- C{i}: {pairs[enem]} - {OBJECTIVE}\")\n",
    "    print(\"   Performance: \", testar(modelo3, test, OBJECTIVE))"
   ]
  },
  {
   "cell_type": "markdown",
   "id": "cda6a783-4bc9-4ea4-8002-f1aead7b6a03",
   "metadata": {},
   "source": [
    "## Gera .csvs com as respostas dos modelos"
   ]
  },
  {
   "cell_type": "code",
   "execution_count": 25,
   "id": "75365813-cd9d-4ade-88d6-fc52059ae31c",
   "metadata": {
    "tags": []
   },
   "outputs": [],
   "source": [
    "def gerar_novo_csv(modelo, dataset, nome, OBJECTIVE):\n",
    "    dic = []\n",
    "    for index, instancia in dataset.iterrows():\n",
    "        essay = retirar_marcações(instancia['essay'])\n",
    "        tokenizado = tokenizer(essay, padding=True, truncation=True, max_length=256,return_tensors=\"pt\")\n",
    "        with torch.no_grad():\n",
    "            r = modelo(**tokenizado)['logits'].squeeze()\n",
    "        if OBJECTIVE == \"regression\":\n",
    "            dic.append({'index_text': index, 'grade_BERT': r.item()})\n",
    "        else:\n",
    "            r = nn.functional.softmax(r,dim=0).tolist()\n",
    "            dic.append({'index_text': index, 'max_score': r.index(max(r)), 'confidence_0': r[0], 'confidence_1': r[1], 'confidence_2': r[2], 'confidence_3': r[3], 'confidence_4': r[4], 'confidence_5': r[5]})\n",
    "    df = pd.DataFrame.from_dict(dic) \n",
    "    df.to_csv(nome, encoding='utf-8', index=False)"
   ]
  },
  {
   "cell_type": "code",
   "execution_count": 27,
   "id": "65fe8571-1e69-44ea-9e1c-b1c10d442d0e",
   "metadata": {
    "tags": []
   },
   "outputs": [],
   "source": [
    "OBJECTIVE = 'classification'\n",
    "for i in range(1,5):\n",
    "    enem=f'C{i}'\n",
    "    nome_csv = f\"Bert-{OBJECTIVE}-{pairs[enem]}--Narrativo.csv\"\n",
    "    modelo3 = get_model_instance(f\"kamel-usp/aes_enem_models-sourceA-{OBJECTIVE}-from-bertimbau-base-{enem}\", OBJECTIVE)\n",
    "    modelo3.load_state_dict(torch.load(f\"modelo-{OBJECTIVE}-{pairs[enem]}.pt\"))\n",
    "    gerar_novo_csv(modelo3, test, f\"test{nome_csv}\", OBJECTIVE)\n",
    "    gerar_novo_csv(modelo3, train, f\"train{nome_csv}\", OBJECTIVE)\n",
    "    gerar_novo_csv(modelo3, validation, f\"validation{nome_csv}\", OBJECTIVE)"
   ]
  }
 ],
 "metadata": {
  "kernelspec": {
   "display_name": "Python 3 (ipykernel)",
   "language": "python",
   "name": "python3"
  },
  "language_info": {
   "codemirror_mode": {
    "name": "ipython",
    "version": 3
   },
   "file_extension": ".py",
   "mimetype": "text/x-python",
   "name": "python",
   "nbconvert_exporter": "python",
   "pygments_lexer": "ipython3",
   "version": "3.9.19"
  }
 },
 "nbformat": 4,
 "nbformat_minor": 5
}
