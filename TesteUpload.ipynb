{
 "cells": [
  {
   "cell_type": "code",
   "execution_count": 32,
   "id": "3f3c5931-5bdb-4ddd-b71c-fde452f80113",
   "metadata": {
    "tags": []
   },
   "outputs": [
    {
     "name": "stderr",
     "output_type": "stream",
     "text": [
      "C:\\Users\\Igor\\Anaconda3\\lib\\site-packages\\transformers\\tokenization_utils_base.py:1601: FutureWarning: `clean_up_tokenization_spaces` was not set. It will be set to `True` by default. This behavior will be depracted in transformers v4.45, and will be then set to `False` by default. For more details check this issue: https://github.com/huggingface/transformers/issues/31884\n",
      "  warnings.warn(\n"
     ]
    }
   ],
   "source": [
    "import torch\n",
    "from transformers import AutoModelForSequenceClassification, AutoTokenizer\n",
    "from coral_pytorch.dataset import corn_label_from_logits\n",
    "\n",
    "TOKENIZER_NAME = f\"neuralmind/bert-base-portuguese-cased\"\n",
    "tokenizer = AutoTokenizer.from_pretrained(TOKENIZER_NAME, use_fast=True)\n",
    "def get_model_instance(model_path, objective, competence):\n",
    "    model = None\n",
    "    if objective == \"Regression\":\n",
    "        model = AutoModelForSequenceClassification.from_pretrained(\n",
    "                f\"{model_path}{objective}-{competence}\", \n",
    "                cache_dir=\"/tmp/\", \n",
    "                num_labels=1,\n",
    "            )\n",
    "    elif objective == \"Classification\" or objective == \"Ordinal\":\n",
    "        model = AutoModelForSequenceClassification.from_pretrained(\n",
    "                f\"{model_path}{objective}-{competence}\", \n",
    "                cache_dir=\"/tmp/aes_enem2\", \n",
    "                num_labels=6,\n",
    "            )\n",
    "    return model\n",
    "\n",
    "\n",
    "pairs = {'C1': 'formal_register', 'C2': 'thematic_coherence', 'C3': 'narrative_rhetorical_structure', 'C4': 'cohesion'}"
   ]
  },
  {
   "cell_type": "code",
   "execution_count": 14,
   "id": "1c7da55c-983a-4fc6-a383-36222346456a",
   "metadata": {
    "tags": []
   },
   "outputs": [],
   "source": [
    "import pandas as pd\n",
    "test = pd.read_csv(\"dataset//testNarrativo.csv\")"
   ]
  },
  {
   "cell_type": "code",
   "execution_count": 16,
   "id": "6ca8e56e-b4b8-44c3-93a5-114d59e2b80f",
   "metadata": {},
   "outputs": [],
   "source": [
    "from sklearn.metrics import cohen_kappa_score, f1_score\n",
    "\n",
    "def testar(model, dataset, OBJECTIVE):\n",
    "    y = []\n",
    "    y_hat = []\n",
    "    print(f\"A competencia Narrativa é: {pairs[enem]}\")\n",
    "    for index, instancia in dataset.iterrows():\n",
    "        essay = retirar_marcações(instancia['essay'])\n",
    "        tokenizado = tokenizer(essay, padding=True, truncation=True, max_length=256,return_tensors=\"pt\")\n",
    "        with torch.no_grad():\n",
    "            r = model(**tokenizado)['logits'].squeeze()\n",
    "        y.append(instancia[pairs[enem]])\n",
    "        if OBJECTIVE == 'Regression':\n",
    "            y_hat.append(r.item())\n",
    "        elif OBJECTIVE == 'Classification':\n",
    "            y_hat.append(r.tolist())\n",
    "        elif OBJECTIVE == 'Ordinal':\n",
    "            y_hat.append(corn_label_from_logits(r.unsqueeze(dim=0)).item())\n",
    "        else:\n",
    "            return -100\n",
    "    y_hat = arrumar_notas(y_hat, OBJECTIVE)\n",
    "    soma = calcular_metricas(y, y_hat)\n",
    "    print(f\"Respostas: {y[:5]}\")\n",
    "    print(f\"Depois do arrumar: {y_hat[:5]}\")\n",
    "    return soma\n",
    "\n",
    "def arredondar_notas(notas):\n",
    "    novas_notas = []\n",
    "    for n in notas:\n",
    "        novas_notas.append( int(round(n)) )\n",
    "    return novas_notas\n",
    "\n",
    "def arrumar_notas(notas, OBJECTIVE):\n",
    "    novas_notas = []\n",
    "    if OBJECTIVE == 'Regression' or OBJECTIVE == 'Ordinal':\n",
    "        for n in notas:\n",
    "            arredondada = int(round(n))\n",
    "            if arredondada > 5:\n",
    "                arredondada = 5\n",
    "            if arredondada < 0:\n",
    "                arredondada = 0\n",
    "            novas_notas.append(arredondada)\n",
    "    elif OBJECTIVE == 'Classification':\n",
    "        for n in notas:\n",
    "            maior = max(n)\n",
    "            novas_notas.append( n.index(maior) )\n",
    "    else:\n",
    "        print(notas)\n",
    "    return novas_notas"
   ]
  },
  {
   "cell_type": "code",
   "execution_count": 18,
   "id": "60e762c0-dc72-4f89-8035-b21fc8c8436f",
   "metadata": {
    "tags": []
   },
   "outputs": [
    {
     "data": {
      "text/plain": [
       "'daew   '"
      ]
     },
     "execution_count": 18,
     "metadata": {},
     "output_type": "execute_result"
    }
   ],
   "source": [
    "def retirar_marcações(texto):\n",
    "    lista_marcações = [\"[P]\", \"[ P]\", \"[P}\", \"[p]\", \"{p}\",\"[S]\", \"[s]\", \"[T]\", \"[t]\", \"{t}\", \"[R]\", \"[X]\", \"[X~]\", \"[r]\", \"[x]\",\"{x}\", \"[?]\", \"{?}\", \"[?}\", \"{?]\", \"[LC]\", \"[LT]\", \"[lt]\"]\n",
    "    for lm in lista_marcações:\n",
    "        texto = texto.replace(lm, \"\")\n",
    "    return texto\n",
    "\n",
    "def calcular_metricas(y, y_hat):\n",
    "    assert len(y) == len(y_hat)\n",
    "    QWK = cohen_kappa_score(y, y_hat, labels=[0, 1, 2, 3, 4, 5], weights='quadratic')\n",
    "    LWK = cohen_kappa_score(y, y_hat, labels=[0, 1, 2, 3, 4, 5], weights='linear')\n",
    "    Kappa = cohen_kappa_score(y, y_hat, labels=[0, 1, 2, 3, 4, 5])\n",
    "    F1 = f1_score(y, y_hat, average='weighted')\n",
    "    print(f'Kappa: {Kappa}')\n",
    "    print(f\"F1: {F1}\")\n",
    "    return Kappa + F1\n",
    "\n",
    "retirar_marcações(\"[X~]daew [P}  \")"
   ]
  },
  {
   "cell_type": "code",
   "execution_count": 34,
   "id": "1d0f9240-7cbd-4be7-a57b-62bf034b1645",
   "metadata": {
    "tags": []
   },
   "outputs": [
    {
     "name": "stdout",
     "output_type": "stream",
     "text": [
      "A competencia Narrativa é: formal_register\n",
      "Kappa: 0.2867469879518072\n",
      "F1: 0.6217760617760618\n",
      "Respostas: [4, 4, 3, 4, 3]\n",
      "Depois do arrumar: [3, 3, 3, 3, 3]\n",
      "   Performance {i}:  0.908523049727869\n"
     ]
    },
    {
     "data": {
      "application/vnd.jupyter.widget-view+json": {
       "model_id": "debc24a3fefa48348bbc36fb40a3a678",
       "version_major": 2,
       "version_minor": 0
      },
      "text/plain": [
       "config.json:   0%|          | 0.00/1.22k [00:00<?, ?B/s]"
      ]
     },
     "metadata": {},
     "output_type": "display_data"
    },
    {
     "name": "stderr",
     "output_type": "stream",
     "text": [
      "C:\\Users\\Igor\\Anaconda3\\lib\\site-packages\\huggingface_hub\\file_download.py:159: UserWarning: `huggingface_hub` cache-system uses symlinks by default to efficiently store duplicated files but your machine does not support them in C:\\tmp\\aes_enem2\\models--igorcs--Ordinal-C2. Caching files will still work but in a degraded version that might require more space on your disk. This warning can be disabled by setting the `HF_HUB_DISABLE_SYMLINKS_WARNING` environment variable. For more details, see https://huggingface.co/docs/huggingface_hub/how-to-cache#limitations.\n",
      "To support symlinks on Windows, you either need to activate Developer Mode or to run Python as an administrator. In order to see activate developer mode, see this article: https://docs.microsoft.com/en-us/windows/apps/get-started/enable-your-device-for-development\n",
      "  warnings.warn(message)\n"
     ]
    },
    {
     "data": {
      "application/vnd.jupyter.widget-view+json": {
       "model_id": "e0df8e3b36a24a89861d627ed220e591",
       "version_major": 2,
       "version_minor": 0
      },
      "text/plain": [
       "model.safetensors:   0%|          | 0.00/436M [00:00<?, ?B/s]"
      ]
     },
     "metadata": {},
     "output_type": "display_data"
    },
    {
     "name": "stdout",
     "output_type": "stream",
     "text": [
      "A competencia Narrativa é: thematic_coherence\n",
      "Kappa: -0.001183832234060267\n",
      "F1: 0.09849422555564843\n",
      "Respostas: [3, 3, 1, 4, 4]\n",
      "Depois do arrumar: [2, 2, 2, 2, 2]\n",
      "   Performance {i}:  0.09731039332158817\n"
     ]
    },
    {
     "data": {
      "application/vnd.jupyter.widget-view+json": {
       "model_id": "7fccd2bbe71d4180a9a316f1ed952871",
       "version_major": 2,
       "version_minor": 0
      },
      "text/plain": [
       "config.json:   0%|          | 0.00/1.22k [00:00<?, ?B/s]"
      ]
     },
     "metadata": {},
     "output_type": "display_data"
    },
    {
     "name": "stderr",
     "output_type": "stream",
     "text": [
      "C:\\Users\\Igor\\Anaconda3\\lib\\site-packages\\huggingface_hub\\file_download.py:159: UserWarning: `huggingface_hub` cache-system uses symlinks by default to efficiently store duplicated files but your machine does not support them in C:\\tmp\\aes_enem2\\models--igorcs--Ordinal-C3. Caching files will still work but in a degraded version that might require more space on your disk. This warning can be disabled by setting the `HF_HUB_DISABLE_SYMLINKS_WARNING` environment variable. For more details, see https://huggingface.co/docs/huggingface_hub/how-to-cache#limitations.\n",
      "To support symlinks on Windows, you either need to activate Developer Mode or to run Python as an administrator. In order to see activate developer mode, see this article: https://docs.microsoft.com/en-us/windows/apps/get-started/enable-your-device-for-development\n",
      "  warnings.warn(message)\n"
     ]
    },
    {
     "data": {
      "application/vnd.jupyter.widget-view+json": {
       "model_id": "dd7e5902890543ac838fece461e7dbed",
       "version_major": 2,
       "version_minor": 0
      },
      "text/plain": [
       "model.safetensors:   0%|          | 0.00/436M [00:00<?, ?B/s]"
      ]
     },
     "metadata": {},
     "output_type": "display_data"
    },
    {
     "name": "stdout",
     "output_type": "stream",
     "text": [
      "A competencia Narrativa é: narrative_rhetorical_structure\n",
      "Kappa: 0.16905350865772695\n",
      "F1: 0.5555935228409096\n",
      "Respostas: [4, 5, 5, 4, 4]\n",
      "Depois do arrumar: [3, 4, 4, 4, 4]\n",
      "   Performance {i}:  0.7246470314986365\n"
     ]
    },
    {
     "data": {
      "application/vnd.jupyter.widget-view+json": {
       "model_id": "ddabe40d1b4b43bd989260b2e1eed9de",
       "version_major": 2,
       "version_minor": 0
      },
      "text/plain": [
       "config.json:   0%|          | 0.00/1.22k [00:00<?, ?B/s]"
      ]
     },
     "metadata": {},
     "output_type": "display_data"
    },
    {
     "name": "stderr",
     "output_type": "stream",
     "text": [
      "C:\\Users\\Igor\\Anaconda3\\lib\\site-packages\\huggingface_hub\\file_download.py:159: UserWarning: `huggingface_hub` cache-system uses symlinks by default to efficiently store duplicated files but your machine does not support them in C:\\tmp\\aes_enem2\\models--igorcs--Ordinal-C4. Caching files will still work but in a degraded version that might require more space on your disk. This warning can be disabled by setting the `HF_HUB_DISABLE_SYMLINKS_WARNING` environment variable. For more details, see https://huggingface.co/docs/huggingface_hub/how-to-cache#limitations.\n",
      "To support symlinks on Windows, you either need to activate Developer Mode or to run Python as an administrator. In order to see activate developer mode, see this article: https://docs.microsoft.com/en-us/windows/apps/get-started/enable-your-device-for-development\n",
      "  warnings.warn(message)\n"
     ]
    },
    {
     "data": {
      "application/vnd.jupyter.widget-view+json": {
       "model_id": "14412747458248a1b158e3a04e588e68",
       "version_major": 2,
       "version_minor": 0
      },
      "text/plain": [
       "model.safetensors:   0%|          | 0.00/436M [00:00<?, ?B/s]"
      ]
     },
     "metadata": {},
     "output_type": "display_data"
    },
    {
     "name": "stdout",
     "output_type": "stream",
     "text": [
      "A competencia Narrativa é: cohesion\n",
      "Kappa: 0.0\n",
      "F1: 0.5694124746756325\n",
      "Respostas: [4, 5, 3, 3, 4]\n",
      "Depois do arrumar: [3, 3, 3, 3, 3]\n",
      "   Performance {i}:  0.5694124746756325\n"
     ]
    }
   ],
   "source": [
    "for o in ['Classification', 'Regression', 'Ordinal']:\n",
    "    for i in range(1,5):\n",
    "        enem = f'C{i}'\n",
    "        print(f\"Competencia ENEM: {enem}\")\n",
    "        objective = o\n",
    "        print(f\"Com treinamento do tipo: {o}\")\n",
    "        model = get_model_instance(f\"igorcs/\", objective, enem)\n",
    "        print(\"   Performance {i}: \", testar(model, test, objective))"
   ]
  },
  {
   "cell_type": "code",
   "execution_count": null,
   "id": "5ee798db-e6e3-408e-856f-f70ab68988b5",
   "metadata": {},
   "outputs": [],
   "source": []
  }
 ],
 "metadata": {
  "kernelspec": {
   "display_name": "Python 3 (ipykernel)",
   "language": "python",
   "name": "python3"
  },
  "language_info": {
   "codemirror_mode": {
    "name": "ipython",
    "version": 3
   },
   "file_extension": ".py",
   "mimetype": "text/x-python",
   "name": "python",
   "nbconvert_exporter": "python",
   "pygments_lexer": "ipython3",
   "version": "3.9.19"
  }
 },
 "nbformat": 4,
 "nbformat_minor": 5
}
